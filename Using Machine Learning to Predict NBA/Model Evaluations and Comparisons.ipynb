{
 "cells": [
  {
   "cell_type": "markdown",
   "metadata": {},
   "source": [
    "# Model Evaluations and Comparisons"
   ]
  },
  {
   "cell_type": "markdown",
   "metadata": {},
   "source": [
    "Below is the results of our models"
   ]
  },
  {
   "cell_type": "markdown",
   "metadata": {},
   "source": [
    "|               Model             |     Best Validation   Score    |     Test   R²    |     RMSE    |      MAE    |\n",
    "|:-------------------------------:|:--------------------:|:----------------:|:-----------:|:-----------:|\n",
    "|       XGBoost Regression      |         0.343        |       0.389      |     2.37    |     1.76    |\n",
    "|     Random Forest Regression    |         0.338        |       0.377      |     2.39    |     1.76    |\n",
    "|          SVM Regression         |         0.326        |       0.360      |     2.42    |     1.75    |\n",
    "|         Linear Regression       |         0.327        |       0.364      |     2.41    |     1.82    |"
   ]
  },
  {
   "cell_type": "markdown",
   "metadata": {},
   "source": [
    "After running 4 different regressions, our XGBoost model performed the best in every catogery. XGBoost has a particular high best validation score and Test RSquared compared to the other models, 0.343 and 0.389. This shows our XGBoost model was the best model in terms of finding the best features and their relationships to our target variable. In terms of train score and test Rsquared, the order of performance goes from XGBoost > RandomForest > SVM > Linear.\n",
    "\n",
    "Linear Regression performed the worst out of every model, especially when more data is added to my models after data scraping. This shows that the features affecting the player improvement are not just linear, which we have already investigated from our EDAs. Linear regression also has the worst RMSE and MAE scores. Linear regression is simply too simplistic for finding NBA player improvements.\n",
    "\n",
    "With various stats of NBA players, the relationship between the features are complicated and non linear. XGBoost optimises gradient descent in finding errors in each decision tree, which proved to be very effective in exploring the nonlinear relationships that exist in sports performance data. XGBoost is also one of the most efficient model out of all the models in terms of computational speed, while able to tune numerious different hyperparameters in the machine learning, showing its good scalability compare to the other models. SVM and random forest regression both have really poor computational efficiency, with Random Forest Regression taking up to 3 hours for the machine learning.\n"
   ]
  },
  {
   "cell_type": "markdown",
   "metadata": {},
   "source": [
    "# Conclusion and learnings"
   ]
  },
  {
   "cell_type": "markdown",
   "metadata": {},
   "source": [
    "Throughout the project, I have encountered a lot of difficulties for this topic. I underestimated how difficult it is to build a good and useful model for finding the NBA player's improvement, or predicting a person's growth in general. Starting off by defining what NBA player improvement is, I had to formulate and create a metric for NBA player's improvement. Next it was to figure out what features or variables that actually cause a player to improve, or even a metric we can track and use in our models. It was a long and challenging process in the feature engineering, it requires a good amount of NBA knowledge to create the features. Ultimately, NBA player improvement is a very vague concept and requires a lot of preemptive thinking and assumptions. There are a lot of complex relations that affect a player to grow.\n",
    "\n",
    "However, I greatly enjoyed the challenge and it was great to see my model improving with all the small changes I implemented each time. Rsquared of nearly 40% was my soft goal at the first place as I didn't see any other project achieveing this or higher from my researches. Therefore I am really happy with my results. I had limited time and resources, so I am eager to keep the project and hope to gain access to more data and further improve my model. My XGboost model was also able to capture true/false player improvement with a accuracy of 73% in the training set. Although its less in the test set, this is still a pretty high score and can be useful for people, it also shows promising and potential to my model and the project.\n",
    "\n",
    "To summarise the things I believe my model is missing to perfectly capture NBA player's improvement, I will put the missing factors in two categories, 1 category is the metrics that are hard to track but possible to measure, and the second category is the things that are nearly impossible to measure.\n",
    "\n",
    "Metrics that are hard but possible to track - possibly implement in my model in the future to improve:\n",
    "\n",
    "Team performance and team transfer - The feature W/S does correlate to a team's performance as if we add the W/S of every NBA player in their team it would add up to be the total wins of that team in a season. However, to improve our model we could dive deeper into what kind of teammates the player has, e.g. some teammates are more greedy with the ball while some are of a teamplayer. We can also look into team transfer as new star players joining a team can greatly change the dynamics of a team and hence the performance of that player. However, team transfer is usually more real-time and random, making it hard to track in the first place. \n",
    "\n",
    "Metrics that are impossible to track, but crucial to a player's improvement:\n",
    "\n",
    "Mentality of a player - This is probably one of the most important factor that affect a players' improvement. The things that create a good player are usually not on court but off court, how hard a player trains, how they spend their spare time, how they manage their diet etc. Its nearly impossible to track these things as its their privacy and these are unmeasurable metrics. Perhaps I can track how much time each player train after work, but its highly unlikely the players are willing to reveal their privacy. "
   ]
  }
 ],
 "metadata": {
  "kernelspec": {
   "display_name": "capstone",
   "language": "python",
   "name": "python3"
  },
  "language_info": {
   "name": "python",
   "version": "3.8.18"
  }
 },
 "nbformat": 4,
 "nbformat_minor": 2
}
